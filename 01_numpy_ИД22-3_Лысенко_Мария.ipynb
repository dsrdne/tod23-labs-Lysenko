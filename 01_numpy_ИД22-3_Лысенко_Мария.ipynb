{
 "cells": [
  {
   "cell_type": "markdown",
   "metadata": {},
   "source": [
    "# Numpy"
   ]
  },
  {
   "cell_type": "markdown",
   "metadata": {},
   "source": [
    "Материалы:\n",
    "* Макрушин С.В. \"Лекция 1: Библиотека Numpy\"\n",
    "* https://numpy.org/doc/stable/user/index.html\n",
    "* https://numpy.org/doc/stable/reference/index.html"
   ]
  },
  {
   "cell_type": "markdown",
   "metadata": {},
   "source": [
    "## Задачи для совместного разбора"
   ]
  },
  {
   "cell_type": "markdown",
   "metadata": {},
   "source": [
    "1. Сгенерировать двухмерный массив `arr` размерности (4, 7), состоящий из случайных действительных чисел, равномерно распределенных в диапазоне от 0 до 20. Нормализовать значения массива с помощью преобразования вида  $𝑎𝑥+𝑏$  так, что после нормализации максимальный элемент масcива будет равен 1.0, минимальный 0.0"
   ]
  },
  {
   "cell_type": "code",
   "execution_count": 46,
   "metadata": {},
   "outputs": [
    {
     "name": "stdout",
     "output_type": "stream",
     "text": [
      "Массив:\n",
      " [[ 5 18 17 14  8 13 14]\n",
      " [13 18  2 17  3  7 15]\n",
      " [14  8 14  3 14  3  6]\n",
      " [ 4 16  7  9 10 15 19]]; \n",
      "Нормальзованный массив:\n",
      " [[0.17647059 0.94117647 0.88235294 0.70588235 0.35294118 0.64705882\n",
      "  0.70588235]\n",
      " [0.64705882 0.94117647 0.         0.88235294 0.05882353 0.29411765\n",
      "  0.76470588]\n",
      " [0.70588235 0.35294118 0.70588235 0.05882353 0.70588235 0.05882353\n",
      "  0.23529412]\n",
      " [0.11764706 0.82352941 0.29411765 0.41176471 0.47058824 0.76470588\n",
      "  1.        ]]\n"
     ]
    }
   ],
   "source": [
    "import numpy as np\n",
    "\n",
    "m=np.random.randint(0, 21, size=(4,7))\n",
    "norm_m = (m - np.min(m)) / (np.max(m) - np.min(m)) \n",
    "print(f'Массив:\\n {m}; \\nНормальзованный массив:\\n {norm_m}')"
   ]
  },
  {
   "cell_type": "markdown",
   "metadata": {},
   "source": [
    "2. Создать матрицу 8 на 10 из случайных целых (используя модуль `numpy.random`) чисел из диапозона от 0 до 10 и найти в ней строку (ее индекс и вывести саму строку), в которой сумма значений минимальна."
   ]
  },
  {
   "cell_type": "code",
   "execution_count": 66,
   "metadata": {},
   "outputs": [
    {
     "name": "stdout",
     "output_type": "stream",
     "text": [
      "[[4 3 4 7 3 3 3 3 9 9]\n",
      " [1 8 8 5 3 2 8 7 8 5]\n",
      " [4 8 7 4 1 8 2 4 8 8]\n",
      " [0 2 3 5 5 8 8 3 3 7]\n",
      " [4 2 0 9 5 7 5 3 4 2]\n",
      " [3 3 6 8 8 7 7 2 0 4]\n",
      " [3 3 5 4 3 2 1 6 0 5]\n",
      " [1 9 7 0 9 8 1 7 1 1]]\n",
      "Минимальная сумма значений - 32. Индекс строки с минимальной суммой значений - 6\n"
     ]
    }
   ],
   "source": [
    "n=np.random.randint(0, 10, size=(8,10))\n",
    "print(n)\n",
    "lst=[]\n",
    "for i in n:\n",
    "    lst.append(np.sum(i))\n",
    "print(f'Минимальная сумма значений - {min(lst)}. Индекс строки с минимальной суммой значений - {lst.index(min(lst))}')"
   ]
  },
  {
   "cell_type": "markdown",
   "metadata": {},
   "source": [
    "3. Найти евклидово расстояние между двумя одномерными векторами одинаковой размерности."
   ]
  },
  {
   "cell_type": "code",
   "execution_count": 67,
   "metadata": {},
   "outputs": [
    {
     "name": "stdout",
     "output_type": "stream",
     "text": [
      "Первый вектор:[5 2 8], второй вектор:[1 9 3]. Евклидово расстояние:9.486832980505138\n"
     ]
    }
   ],
   "source": [
    "v1=np.random.randint(0, 10, size=3)\n",
    "v2=np.random.randint(0, 10, size=3)\n",
    "res=np.sqrt(np.sum(np.square(v1 - v2)))\n",
    "print(f'Первый вектор:{v1}, второй вектор:{v2}. Евклидово расстояние:{res}')"
   ]
  },
  {
   "cell_type": "markdown",
   "metadata": {},
   "source": [
    "4. Решить матричное уравнение `A*X*B=-C` - найти матрицу `X`. Где `A = [[-1, 2, 4], [-3, 1, 2], [-3, 0, 1]]`, `B=[[3, -1], [2, 1]]`, `C=[[7, 21], [11, 8], [8, 4]]`."
   ]
  },
  {
   "cell_type": "code",
   "execution_count": 82,
   "metadata": {},
   "outputs": [
    {
     "data": {
      "text/plain": [
       "array([[ 1.00000000e+00,  1.11022302e-15],\n",
       "       [-2.00000000e+00,  1.00000000e+00],\n",
       "       [ 3.00000000e+00, -4.00000000e+00]])"
      ]
     },
     "execution_count": 82,
     "metadata": {},
     "output_type": "execute_result"
    }
   ],
   "source": [
    "a=np.array([[-1, 2, 4], [-3, 1, 2], [-3, 0, 1]]).reshape(3,3)\n",
    "b=np.array([[3, -1], [2, 1]]).reshape(2,2)\n",
    "c=np.array([[7, 21], [11, 8], [8, 4]]).reshape(3,2)\n",
    "x=np.dot(np.dot(np.linalg.inv(a), -c), np.linalg.inv(b))\n",
    "x"
   ]
  },
  {
   "cell_type": "markdown",
   "metadata": {},
   "source": [
    "## Лабораторная работа №1"
   ]
  },
  {
   "cell_type": "code",
   "execution_count": 1,
   "metadata": {},
   "outputs": [],
   "source": [
    "import numpy as np"
   ]
  },
  {
   "cell_type": "markdown",
   "metadata": {},
   "source": [
    "Замечание: при решении данных задач не подразумевается использования циклов или генераторов Python, если в задании не сказано обратного. Решение должно опираться на использования функционала библиотеки `numpy`."
   ]
  },
  {
   "cell_type": "markdown",
   "metadata": {},
   "source": [
    "1. Файл `minutes_n_ingredients.csv` содержит информацию об идентификаторе рецепта, времени его выполнения в минутах и количестве необходимых ингредиентов. Считайте данные из этого файла в виде массива `numpy` типа `int32`, используя `np.loadtxt`. Выведите на экран первые 5 строк массива."
   ]
  },
  {
   "cell_type": "code",
   "execution_count": 22,
   "metadata": {},
   "outputs": [
    {
     "name": "stdout",
     "output_type": "stream",
     "text": [
      "[[127244     60     16]\n",
      " [ 23891     25      7]\n",
      " [ 94746     10      6]\n",
      " [ 67660      5      6]\n",
      " [157911     60     14]]\n"
     ]
    }
   ],
   "source": [
    "file=np.loadtxt(\"minutes_n_ingredients.csv\", delimiter=',', dtype='int64', skiprows=1)\n",
    "print(file[:5])"
   ]
  },
  {
   "cell_type": "code",
   "execution_count": 29,
   "metadata": {},
   "outputs": [
    {
     "data": {
      "text/plain": [
       "array([127244,  23891,  94746, ..., 498432, 370915,  81993], dtype=int64)"
      ]
     },
     "execution_count": 29,
     "metadata": {},
     "output_type": "execute_result"
    }
   ],
   "source": [
    "file[:, 0]"
   ]
  },
  {
   "cell_type": "code",
   "execution_count": 30,
   "metadata": {},
   "outputs": [
    {
     "data": {
      "text/plain": [
       "0.26666666666666666"
      ]
     },
     "execution_count": 30,
     "metadata": {},
     "output_type": "execute_result"
    }
   ],
   "source": [
    "16/60"
   ]
  },
  {
   "cell_type": "markdown",
   "metadata": {},
   "source": [
    "2. Вычислите среднее значение, минимум, максимум и медиану по каждому из столбцов, кроме первого."
   ]
  },
  {
   "cell_type": "code",
   "execution_count": null,
   "metadata": {},
   "outputs": [],
   "source": []
  },
  {
   "cell_type": "code",
   "execution_count": 23,
   "metadata": {},
   "outputs": [
    {
     "name": "stdout",
     "output_type": "stream",
     "text": [
      "Среднее по первому столбцу - 21601.00169. Среднее по второму столбцу - 9.05528. \n",
      "Максимум по первому столбцу - 2147483647. Максимум по второму столбцу - 39. \n",
      "Минимум по первому столбцу - 0. Минимум по второму столбцу - 1. \n",
      "Медиана по первому столбцу - 40.0. Медиана по второму столбцу - 9.0. \n"
     ]
    }
   ],
   "source": [
    "sr=np.mean(file, axis=0)\n",
    "print(f'Среднее по первому столбцу - {sr[1]}. Среднее по второму столбцу - {sr[2]}. ')\n",
    "mx=np.max(file, axis=0)\n",
    "print(f'Максимум по первому столбцу - {mx[1]}. Максимум по второму столбцу - {mx[2]}. ')\n",
    "mn=np.min(file, axis=0)\n",
    "print(f'Минимум по первому столбцу - {mn[1]}. Минимум по второму столбцу - {mn[2]}. ')\n",
    "md=np.median(file, axis=0)\n",
    "print(f'Медиана по первому столбцу - {md[1]}. Медиана по второму столбцу - {md[2]}. ')"
   ]
  },
  {
   "cell_type": "markdown",
   "metadata": {},
   "source": [
    "3. Ограничьте сверху значения продолжительности выполнения рецепта значением квантиля $q_{0.75}$. "
   ]
  },
  {
   "cell_type": "code",
   "execution_count": 15,
   "metadata": {},
   "outputs": [
    {
     "name": "stdout",
     "output_type": "stream",
     "text": [
      "11.0\n"
     ]
    }
   ],
   "source": [
    "qua=np.quantile(file, 0.75, axis=0)\n",
    "print(qua[2])"
   ]
  },
  {
   "cell_type": "markdown",
   "metadata": {},
   "source": [
    "4. Посчитайте, для скольких рецептов указана продолжительность, равная нулю. Замените для таких строк значение в данном столбце на 1."
   ]
  },
  {
   "cell_type": "code",
   "execution_count": 19,
   "metadata": {},
   "outputs": [
    {
     "data": {
      "text/plain": [
       "array([  0, 479,   0], dtype=int64)"
      ]
     },
     "execution_count": 19,
     "metadata": {},
     "output_type": "execute_result"
    }
   ],
   "source": [
    "n_zeros = np.count_nonzero(file==0, axis=0)\n",
    "n_zeros"
   ]
  },
  {
   "cell_type": "markdown",
   "metadata": {},
   "source": [
    "5. Посчитайте, сколько уникальных рецептов находится в датасете."
   ]
  },
  {
   "cell_type": "code",
   "execution_count": 10,
   "metadata": {},
   "outputs": [
    {
     "name": "stdout",
     "output_type": "stream",
     "text": [
      "Уникальных рецептов - 100000. \n"
     ]
    }
   ],
   "source": [
    "un=np.unique(file[:, 0])\n",
    "print(f'Уникальных рецептов - {len(un)}. ')"
   ]
  },
  {
   "cell_type": "markdown",
   "metadata": {},
   "source": [
    "6. Сколько и каких различных значений кол-ва ингредиентов присутвует в рецептах из датасета?"
   ]
  },
  {
   "cell_type": "code",
   "execution_count": 13,
   "metadata": {},
   "outputs": [
    {
     "name": "stdout",
     "output_type": "stream",
     "text": [
      "Ингридиентов/Рецептов\n",
      "[[    1    13]\n",
      " [    2   926]\n",
      " [    3  2895]\n",
      " [    4  5515]\n",
      " [    5  7913]\n",
      " [    6  9376]\n",
      " [    7 10628]\n",
      " [    8 10951]\n",
      " [    9 10585]\n",
      " [   10  9591]\n",
      " [   11  8297]\n",
      " [   12  6605]\n",
      " [   13  4997]\n",
      " [   14  3663]\n",
      " [   15  2595]\n",
      " [   16  1767]\n",
      " [   17  1246]\n",
      " [   18   790]\n",
      " [   19   573]\n",
      " [   20   376]\n",
      " [   21   217]\n",
      " [   22   161]\n",
      " [   23   105]\n",
      " [   24    69]\n",
      " [   25    50]\n",
      " [   26    28]\n",
      " [   27    16]\n",
      " [   28    16]\n",
      " [   29    12]\n",
      " [   30    12]\n",
      " [   31     3]\n",
      " [   32     1]\n",
      " [   33     2]\n",
      " [   34     1]\n",
      " [   35     3]\n",
      " [   37     1]\n",
      " [   39     1]]\n"
     ]
    }
   ],
   "source": [
    "unique, counts = np.unique(file[:, 2], return_counts=True)\n",
    "result = np.column_stack((unique, counts)) \n",
    "print('Ингридиентов/Рецептов')\n",
    "print (result)"
   ]
  },
  {
   "cell_type": "markdown",
   "metadata": {},
   "source": [
    "7. Создайте версию массива, содержащую информацию только о рецептах, состоящих не более чем из 5 ингредиентов."
   ]
  },
  {
   "cell_type": "code",
   "execution_count": 17,
   "metadata": {},
   "outputs": [
    {
     "data": {
      "text/plain": [
       "array([[446597,     15,      5],\n",
       "       [204134,      5,      3],\n",
       "       [ 25623,      6,      4],\n",
       "       ...,\n",
       "       [ 52088,     60,      5],\n",
       "       [128811,     15,      4],\n",
       "       [370915,      5,      4]], dtype=int64)"
      ]
     },
     "execution_count": 17,
     "metadata": {},
     "output_type": "execute_result"
    }
   ],
   "source": [
    "file1=file[file[:,2] <= 5]\n",
    "\n",
    "file1"
   ]
  },
  {
   "cell_type": "markdown",
   "metadata": {},
   "source": [
    "8. Для каждого рецепта посчитайте, сколько в среднем ингредиентов приходится на одну минуту рецепта. Найдите максимальное значение этой величины для всего датасета"
   ]
  },
  {
   "cell_type": "code",
   "execution_count": 34,
   "metadata": {},
   "outputs": [
    {
     "name": "stdout",
     "output_type": "stream",
     "text": [
      "Максимальное значение - 23.0\n"
     ]
    },
    {
     "data": {
      "text/plain": [
       "array([0.26666667, 0.28      , 0.6       , ..., 0.23076923, 0.8       ,\n",
       "       0.1       ])"
      ]
     },
     "execution_count": 34,
     "metadata": {},
     "output_type": "execute_result"
    }
   ],
   "source": [
    "avrg = np.divide(file[:, 2], file[:, 1], where=file[:, 1]!=0)\n",
    "print(f'Максимальное значение - {np.max(avrg)}')\n",
    "avrg"
   ]
  },
  {
   "cell_type": "markdown",
   "metadata": {},
   "source": [
    "9. Вычислите среднее количество ингредиентов для топ-100 рецептов с наибольшей продолжительностью"
   ]
  },
  {
   "cell_type": "code",
   "execution_count": 35,
   "metadata": {},
   "outputs": [
    {
     "name": "stdout",
     "output_type": "stream",
     "text": [
      " Cреднее количество ингредиентов для топ-100 рецептов с наибольшей продолжительностью - 6.61\n"
     ]
    }
   ],
   "source": [
    "top100 = file[np.argsort(file[:, 1])][-100:, 2]\n",
    "print(f' Cреднее количество ингредиентов для топ-100 рецептов с наибольшей продолжительностью - {np.average(top100)}')"
   ]
  },
  {
   "cell_type": "markdown",
   "metadata": {},
   "source": [
    "10. Выберите случайным образом и выведите информацию о 10 различных рецептах"
   ]
  },
  {
   "cell_type": "code",
   "execution_count": 36,
   "metadata": {},
   "outputs": [
    {
     "name": "stdout",
     "output_type": "stream",
     "text": [
      "[[192954    630     12]\n",
      " [ 87955     60     11]\n",
      " [171605    120     10]\n",
      " [103059      5      8]\n",
      " [290321     10      4]\n",
      " [380756     30      9]\n",
      " [301378      5      2]\n",
      " [ 25025     60      9]\n",
      " [ 39492     12      3]\n",
      " [ 66653     30     10]]\n"
     ]
    }
   ],
   "source": [
    "print(file[np.random.randint(file.shape[0], size = 10)])"
   ]
  },
  {
   "cell_type": "markdown",
   "metadata": {},
   "source": [
    "11. Выведите процент рецептов, кол-во ингредиентов в которых меньше среднего."
   ]
  },
  {
   "cell_type": "code",
   "execution_count": 37,
   "metadata": {},
   "outputs": [
    {
     "name": "stdout",
     "output_type": "stream",
     "text": [
      "Процент рецептов, кол-во ингредиентов в которых меньше среднего - 58.802% \n"
     ]
    }
   ],
   "source": [
    "lessav=file[file[:,2] <= np.mean(file, axis=0)[2]]\n",
    "print(f'Процент рецептов, кол-во ингредиентов в которых меньше среднего - {len(lessav)/len(file)*100}% ')"
   ]
  },
  {
   "cell_type": "markdown",
   "metadata": {},
   "source": [
    "12. Назовем \"простым\" такой рецепт, длительность выполнения которого не больше 20 минут и кол-во ингредиентов в котором не больше 5. Создайте версию датасета с дополнительным столбцом, значениями которого являются 1, если рецепт простой, и 0 в противном случае."
   ]
  },
  {
   "cell_type": "code",
   "execution_count": 39,
   "metadata": {},
   "outputs": [
    {
     "data": {
      "text/plain": [
       "array([[127244,     60,     16,      0],\n",
       "       [ 23891,     25,      7,      0],\n",
       "       [ 94746,     10,      6,      0],\n",
       "       ...,\n",
       "       [498432,     65,     15,      0],\n",
       "       [370915,      5,      4,      1],\n",
       "       [ 81993,    140,     14,      0]], dtype=int64)"
      ]
     },
     "execution_count": 39,
     "metadata": {},
     "output_type": "execute_result"
    }
   ],
   "source": [
    "simplee=(file[:,1] <= 20) & (file[:,2] <= 5)\n",
    "wsimp=np.hstack((file, simplee[:, np.newaxis]))\n",
    "wsimp"
   ]
  },
  {
   "cell_type": "markdown",
   "metadata": {},
   "source": [
    "13. Выведите процент \"простых\" рецептов в датасете"
   ]
  },
  {
   "cell_type": "code",
   "execution_count": 43,
   "metadata": {},
   "outputs": [
    {
     "name": "stdout",
     "output_type": "stream",
     "text": [
      " Процент \"простых\" рецептов - 9.552 %\n"
     ]
    }
   ],
   "source": [
    " print(f' Процент \"простых\" рецептов - {np.count_nonzero(wsimp[:, 3], axis=0)/len(file)*100} %')"
   ]
  },
  {
   "cell_type": "markdown",
   "metadata": {},
   "source": [
    "14. Разделим рецепты на группы по следующему правилу. Назовем рецепты короткими, если их продолжительность составляет менее 10 минут; стандартными, если их продолжительность составляет более 10, но менее 20 минут; и длинными, если их продолжительность составляет не менее 20 минут. Создайте трехмерный массив, где нулевая ось отвечает за номер группы (короткий, стандартный или длинный рецепт), первая ось - за сам рецепт и вторая ось - за характеристики рецепта. Выберите максимальное количество рецептов из каждой группы таким образом, чтобы было возможно сформировать трехмерный массив. Выведите форму полученного массива."
   ]
  },
  {
   "cell_type": "code",
   "execution_count": 45,
   "metadata": {},
   "outputs": [
    {
     "data": {
      "text/plain": [
       "array([[[     0,  94746,     10,      6],\n",
       "        [     0,  67660,      5,      6],\n",
       "        [     0, 366174,      7,      9],\n",
       "        ...,\n",
       "        [     0, 420725,      5,      3],\n",
       "        [     0,   4747,      0,      9],\n",
       "        [     0, 370915,      5,      4]],\n",
       "\n",
       "       [[     1,  33941,     18,      9],\n",
       "        [     1, 446597,     15,      5],\n",
       "        [     1,  74205,     20,      7],\n",
       "        ...,\n",
       "        [     1, 230115,     20,      7],\n",
       "        [     1, 496131,     20,      9],\n",
       "        [     1, 365818,     20,      6]],\n",
       "\n",
       "       [[     2, 127244,     60,     16],\n",
       "        [     2,  23891,     25,      7],\n",
       "        [     2, 157911,     60,     14],\n",
       "        ...,\n",
       "        [     2,  68428,     70,     10],\n",
       "        [     2, 312995,   1445,      7],\n",
       "        [     2,  93651,    240,     12]]])"
      ]
     },
     "execution_count": 45,
     "metadata": {},
     "output_type": "execute_result"
    }
   ],
   "source": [
    "short=file[file[:,1]<=10]\n",
    "norm1=file[file[:,1]>10]\n",
    "norm=norm1[norm1[:,1]<=20]\n",
    "long=file[file[:,1]>20]\n",
    "\n",
    "trehmer=np.arange(149592).reshape(3,12466,4)\n",
    "trehmer[0][:,1:]=short[:12466,:]\n",
    "trehmer[0][:,0]=0\n",
    "trehmer[1][:,1:]=norm[:12466,:]\n",
    "trehmer[1][:,0]=1\n",
    "trehmer[2][:,1:]=long[:12466,:]\n",
    "trehmer[2][:,0]=2\n",
    "trehmer"
   ]
  }
 ],
 "metadata": {
  "kernelspec": {
   "display_name": "Python 3 (ipykernel)",
   "language": "python",
   "name": "python3"
  },
  "language_info": {
   "codemirror_mode": {
    "name": "ipython",
    "version": 3
   },
   "file_extension": ".py",
   "mimetype": "text/x-python",
   "name": "python",
   "nbconvert_exporter": "python",
   "pygments_lexer": "ipython3",
   "version": "3.9.12"
  }
 },
 "nbformat": 4,
 "nbformat_minor": 4
}
